{
 "metadata": {
  "language_info": {
   "codemirror_mode": {
    "name": "ipython",
    "version": 3
   },
   "file_extension": ".py",
   "mimetype": "text/x-python",
   "name": "python",
   "nbconvert_exporter": "python",
   "pygments_lexer": "ipython3",
   "version": "3.7.1-final"
  },
  "orig_nbformat": 2,
  "kernelspec": {
   "name": "python3",
   "display_name": "Python 3"
  }
 },
 "nbformat": 4,
 "nbformat_minor": 2,
 "cells": [
  {
   "cell_type": "code",
   "execution_count": 33,
   "metadata": {},
   "outputs": [],
   "source": [
    "import pandas as pd"
   ]
  },
  {
   "cell_type": "code",
   "execution_count": 34,
   "metadata": {},
   "outputs": [],
   "source": [
    "rock_samples = pd.read_csv('data/rocksamples.csv')"
   ]
  },
  {
   "cell_type": "code",
   "execution_count": 35,
   "metadata": {},
   "outputs": [
    {
     "output_type": "execute_result",
     "data": {
      "text/plain": [
       "      ID   Mission    Type   Subtype  Weight(g)  Pristine(%)\n",
       "0  10001  Apollo11    Soil  Unsieved      125.8        88.36\n",
       "1  10002  Apollo11    Soil  Unsieved     5629.0        93.73\n",
       "2  10003  Apollo11  Basalt  Ilmenite      213.0        65.56\n",
       "3  10004  Apollo11    Core  Unsieved       44.8        71.76\n",
       "4  10005  Apollo11    Core  Unsieved       53.4        40.31"
      ],
      "text/html": "<div>\n<style scoped>\n    .dataframe tbody tr th:only-of-type {\n        vertical-align: middle;\n    }\n\n    .dataframe tbody tr th {\n        vertical-align: top;\n    }\n\n    .dataframe thead th {\n        text-align: right;\n    }\n</style>\n<table border=\"1\" class=\"dataframe\">\n  <thead>\n    <tr style=\"text-align: right;\">\n      <th></th>\n      <th>ID</th>\n      <th>Mission</th>\n      <th>Type</th>\n      <th>Subtype</th>\n      <th>Weight(g)</th>\n      <th>Pristine(%)</th>\n    </tr>\n  </thead>\n  <tbody>\n    <tr>\n      <th>0</th>\n      <td>10001</td>\n      <td>Apollo11</td>\n      <td>Soil</td>\n      <td>Unsieved</td>\n      <td>125.8</td>\n      <td>88.36</td>\n    </tr>\n    <tr>\n      <th>1</th>\n      <td>10002</td>\n      <td>Apollo11</td>\n      <td>Soil</td>\n      <td>Unsieved</td>\n      <td>5629.0</td>\n      <td>93.73</td>\n    </tr>\n    <tr>\n      <th>2</th>\n      <td>10003</td>\n      <td>Apollo11</td>\n      <td>Basalt</td>\n      <td>Ilmenite</td>\n      <td>213.0</td>\n      <td>65.56</td>\n    </tr>\n    <tr>\n      <th>3</th>\n      <td>10004</td>\n      <td>Apollo11</td>\n      <td>Core</td>\n      <td>Unsieved</td>\n      <td>44.8</td>\n      <td>71.76</td>\n    </tr>\n    <tr>\n      <th>4</th>\n      <td>10005</td>\n      <td>Apollo11</td>\n      <td>Core</td>\n      <td>Unsieved</td>\n      <td>53.4</td>\n      <td>40.31</td>\n    </tr>\n  </tbody>\n</table>\n</div>"
     },
     "metadata": {},
     "execution_count": 35
    }
   ],
   "source": [
    "rock_samples.head()"
   ]
  },
  {
   "cell_type": "code",
   "execution_count": 36,
   "metadata": {},
   "outputs": [
    {
     "output_type": "stream",
     "name": "stdout",
     "text": [
      "<class 'pandas.core.frame.DataFrame'>\nRangeIndex: 2229 entries, 0 to 2228\nData columns (total 6 columns):\n #   Column       Non-Null Count  Dtype  \n---  ------       --------------  -----  \n 0   ID           2229 non-null   int64  \n 1   Mission      2229 non-null   object \n 2   Type         2229 non-null   object \n 3   Subtype      2226 non-null   object \n 4   Weight(g)    2229 non-null   float64\n 5   Pristine(%)  2229 non-null   float64\ndtypes: float64(2), int64(1), object(3)\nmemory usage: 104.6+ KB\n"
     ]
    }
   ],
   "source": [
    "rock_samples.info()"
   ]
  },
  {
   "cell_type": "code",
   "execution_count": 37,
   "metadata": {},
   "outputs": [
    {
     "output_type": "execute_result",
     "data": {
      "text/plain": [
       "      ID   Mission    Type   Subtype  Weight(kg)  Pristine(%)\n",
       "0  10001  Apollo11    Soil  Unsieved      0.1258        88.36\n",
       "1  10002  Apollo11    Soil  Unsieved      5.6290        93.73\n",
       "2  10003  Apollo11  Basalt  Ilmenite      0.2130        65.56\n",
       "3  10004  Apollo11    Core  Unsieved      0.0448        71.76\n",
       "4  10005  Apollo11    Core  Unsieved      0.0534        40.31"
      ],
      "text/html": "<div>\n<style scoped>\n    .dataframe tbody tr th:only-of-type {\n        vertical-align: middle;\n    }\n\n    .dataframe tbody tr th {\n        vertical-align: top;\n    }\n\n    .dataframe thead th {\n        text-align: right;\n    }\n</style>\n<table border=\"1\" class=\"dataframe\">\n  <thead>\n    <tr style=\"text-align: right;\">\n      <th></th>\n      <th>ID</th>\n      <th>Mission</th>\n      <th>Type</th>\n      <th>Subtype</th>\n      <th>Weight(kg)</th>\n      <th>Pristine(%)</th>\n    </tr>\n  </thead>\n  <tbody>\n    <tr>\n      <th>0</th>\n      <td>10001</td>\n      <td>Apollo11</td>\n      <td>Soil</td>\n      <td>Unsieved</td>\n      <td>0.1258</td>\n      <td>88.36</td>\n    </tr>\n    <tr>\n      <th>1</th>\n      <td>10002</td>\n      <td>Apollo11</td>\n      <td>Soil</td>\n      <td>Unsieved</td>\n      <td>5.6290</td>\n      <td>93.73</td>\n    </tr>\n    <tr>\n      <th>2</th>\n      <td>10003</td>\n      <td>Apollo11</td>\n      <td>Basalt</td>\n      <td>Ilmenite</td>\n      <td>0.2130</td>\n      <td>65.56</td>\n    </tr>\n    <tr>\n      <th>3</th>\n      <td>10004</td>\n      <td>Apollo11</td>\n      <td>Core</td>\n      <td>Unsieved</td>\n      <td>0.0448</td>\n      <td>71.76</td>\n    </tr>\n    <tr>\n      <th>4</th>\n      <td>10005</td>\n      <td>Apollo11</td>\n      <td>Core</td>\n      <td>Unsieved</td>\n      <td>0.0534</td>\n      <td>40.31</td>\n    </tr>\n  </tbody>\n</table>\n</div>"
     },
     "metadata": {},
     "execution_count": 37
    }
   ],
   "source": [
    "rock_samples['Weight(g)'] = rock_samples['Weight(g)'].apply(lambda x : x * 0.001)\n",
    "rock_samples.rename(columns={'Weight(g)' : 'Weight(kg)'}, inplace = True)\n",
    "rock_samples.head()"
   ]
  },
  {
   "cell_type": "code",
   "execution_count": 38,
   "metadata": {},
   "outputs": [
    {
     "output_type": "execute_result",
     "data": {
      "text/plain": [
       "    Mission\n",
       "0  Apollo11\n",
       "1  Apollo12\n",
       "2  Apollo14\n",
       "3  Apollo15\n",
       "4  Apollo16"
      ],
      "text/html": "<div>\n<style scoped>\n    .dataframe tbody tr th:only-of-type {\n        vertical-align: middle;\n    }\n\n    .dataframe tbody tr th {\n        vertical-align: top;\n    }\n\n    .dataframe thead th {\n        text-align: right;\n    }\n</style>\n<table border=\"1\" class=\"dataframe\">\n  <thead>\n    <tr style=\"text-align: right;\">\n      <th></th>\n      <th>Mission</th>\n    </tr>\n  </thead>\n  <tbody>\n    <tr>\n      <th>0</th>\n      <td>Apollo11</td>\n    </tr>\n    <tr>\n      <th>1</th>\n      <td>Apollo12</td>\n    </tr>\n    <tr>\n      <th>2</th>\n      <td>Apollo14</td>\n    </tr>\n    <tr>\n      <th>3</th>\n      <td>Apollo15</td>\n    </tr>\n    <tr>\n      <th>4</th>\n      <td>Apollo16</td>\n    </tr>\n  </tbody>\n</table>\n</div>"
     },
     "metadata": {},
     "execution_count": 38
    }
   ],
   "source": [
    "missions = pd.DataFrame()\n",
    "missions['Mission'] = rock_samples['Mission'].unique()\n",
    "missions.head()"
   ]
  },
  {
   "cell_type": "code",
   "execution_count": 39,
   "metadata": {},
   "outputs": [
    {
     "output_type": "stream",
     "name": "stdout",
     "text": [
      "<class 'pandas.core.frame.DataFrame'>\nRangeIndex: 6 entries, 0 to 5\nData columns (total 1 columns):\n #   Column   Non-Null Count  Dtype \n---  ------   --------------  ----- \n 0   Mission  6 non-null      object\ndtypes: object(1)\nmemory usage: 176.0+ bytes\n"
     ]
    }
   ],
   "source": [
    "missions.info()"
   ]
  },
  {
   "cell_type": "code",
   "execution_count": 40,
   "metadata": {},
   "outputs": [
    {
     "output_type": "execute_result",
     "data": {
      "text/plain": [
       "    Mission  Sample Weight(kg)\n",
       "0  Apollo11           21.55424\n",
       "1  Apollo12           34.34238\n",
       "2  Apollo14           41.83363\n",
       "3  Apollo15           75.39910\n",
       "4  Apollo16           92.46262\n",
       "5  Apollo17          109.44402"
      ],
      "text/html": "<div>\n<style scoped>\n    .dataframe tbody tr th:only-of-type {\n        vertical-align: middle;\n    }\n\n    .dataframe tbody tr th {\n        vertical-align: top;\n    }\n\n    .dataframe thead th {\n        text-align: right;\n    }\n</style>\n<table border=\"1\" class=\"dataframe\">\n  <thead>\n    <tr style=\"text-align: right;\">\n      <th></th>\n      <th>Mission</th>\n      <th>Sample Weight(kg)</th>\n    </tr>\n  </thead>\n  <tbody>\n    <tr>\n      <th>0</th>\n      <td>Apollo11</td>\n      <td>21.55424</td>\n    </tr>\n    <tr>\n      <th>1</th>\n      <td>Apollo12</td>\n      <td>34.34238</td>\n    </tr>\n    <tr>\n      <th>2</th>\n      <td>Apollo14</td>\n      <td>41.83363</td>\n    </tr>\n    <tr>\n      <th>3</th>\n      <td>Apollo15</td>\n      <td>75.39910</td>\n    </tr>\n    <tr>\n      <th>4</th>\n      <td>Apollo16</td>\n      <td>92.46262</td>\n    </tr>\n    <tr>\n      <th>5</th>\n      <td>Apollo17</td>\n      <td>109.44402</td>\n    </tr>\n  </tbody>\n</table>\n</div>"
     },
     "metadata": {},
     "execution_count": 40
    }
   ],
   "source": [
    "sample_total_weight = rock_samples.groupby('Mission')['Weight(kg)'].sum()\n",
    "missions = pd.merge(missions, sample_total_weight, on='Mission')\n",
    "missions.rename(columns={'Weight(kg)':'Sample Weight(kg)'}, inplace=True)\n",
    "missions"
   ]
  },
  {
   "cell_type": "code",
   "execution_count": 41,
   "metadata": {},
   "outputs": [
    {
     "output_type": "execute_result",
     "data": {
      "text/plain": [
       "    Mission  Sample Weight(kg)\n",
       "0  Apollo11           21.55424\n",
       "1  Apollo12           34.34238\n",
       "2  Apollo14           41.83363\n",
       "3  Apollo15           75.39910\n",
       "4  Apollo16           92.46262\n",
       "5  Apollo17          109.44402"
      ],
      "text/html": "<div>\n<style scoped>\n    .dataframe tbody tr th:only-of-type {\n        vertical-align: middle;\n    }\n\n    .dataframe tbody tr th {\n        vertical-align: top;\n    }\n\n    .dataframe thead th {\n        text-align: right;\n    }\n</style>\n<table border=\"1\" class=\"dataframe\">\n  <thead>\n    <tr style=\"text-align: right;\">\n      <th></th>\n      <th>Mission</th>\n      <th>Sample Weight(kg)</th>\n    </tr>\n  </thead>\n  <tbody>\n    <tr>\n      <th>0</th>\n      <td>Apollo11</td>\n      <td>21.55424</td>\n    </tr>\n    <tr>\n      <th>1</th>\n      <td>Apollo12</td>\n      <td>34.34238</td>\n    </tr>\n    <tr>\n      <th>2</th>\n      <td>Apollo14</td>\n      <td>41.83363</td>\n    </tr>\n    <tr>\n      <th>3</th>\n      <td>Apollo15</td>\n      <td>75.39910</td>\n    </tr>\n    <tr>\n      <th>4</th>\n      <td>Apollo16</td>\n      <td>92.46262</td>\n    </tr>\n    <tr>\n      <th>5</th>\n      <td>Apollo17</td>\n      <td>109.44402</td>\n    </tr>\n  </tbody>\n</table>\n</div>"
     },
     "metadata": {},
     "execution_count": 41
    }
   ],
   "source": [
    "missions"
   ]
  },
  {
   "cell_type": "code",
   "execution_count": 42,
   "metadata": {},
   "outputs": [
    {
     "output_type": "execute_result",
     "data": {
      "text/plain": [
       "Mission\n",
       "Apollo11     21.55424\n",
       "Apollo12     34.34238\n",
       "Apollo14     41.83363\n",
       "Apollo15     75.39910\n",
       "Apollo16     92.46262\n",
       "Apollo17    109.44402\n",
       "Name: Weight(kg), dtype: float64"
      ]
     },
     "metadata": {},
     "execution_count": 42
    }
   ],
   "source": [
    "sample_total_weight = rock_samples.groupby('Mission')['Weight(kg)'].sum()\n",
    "sample_total_weight"
   ]
  },
  {
   "cell_type": "code",
   "execution_count": 43,
   "metadata": {},
   "outputs": [
    {
     "output_type": "execute_result",
     "data": {
      "text/plain": [
       "    Mission  Sample Weight(kg)  Weight Diff\n",
       "0  Apollo11           21.55424          NaN\n",
       "1  Apollo12           34.34238     12.78814\n",
       "2  Apollo14           41.83363      7.49125\n",
       "3  Apollo15           75.39910     33.56547\n",
       "4  Apollo16           92.46262     17.06352\n",
       "5  Apollo17          109.44402     16.98140"
      ],
      "text/html": "<div>\n<style scoped>\n    .dataframe tbody tr th:only-of-type {\n        vertical-align: middle;\n    }\n\n    .dataframe tbody tr th {\n        vertical-align: top;\n    }\n\n    .dataframe thead th {\n        text-align: right;\n    }\n</style>\n<table border=\"1\" class=\"dataframe\">\n  <thead>\n    <tr style=\"text-align: right;\">\n      <th></th>\n      <th>Mission</th>\n      <th>Sample Weight(kg)</th>\n      <th>Weight Diff</th>\n    </tr>\n  </thead>\n  <tbody>\n    <tr>\n      <th>0</th>\n      <td>Apollo11</td>\n      <td>21.55424</td>\n      <td>NaN</td>\n    </tr>\n    <tr>\n      <th>1</th>\n      <td>Apollo12</td>\n      <td>34.34238</td>\n      <td>12.78814</td>\n    </tr>\n    <tr>\n      <th>2</th>\n      <td>Apollo14</td>\n      <td>41.83363</td>\n      <td>7.49125</td>\n    </tr>\n    <tr>\n      <th>3</th>\n      <td>Apollo15</td>\n      <td>75.39910</td>\n      <td>33.56547</td>\n    </tr>\n    <tr>\n      <th>4</th>\n      <td>Apollo16</td>\n      <td>92.46262</td>\n      <td>17.06352</td>\n    </tr>\n    <tr>\n      <th>5</th>\n      <td>Apollo17</td>\n      <td>109.44402</td>\n      <td>16.98140</td>\n    </tr>\n  </tbody>\n</table>\n</div>"
     },
     "metadata": {},
     "execution_count": 43
    }
   ],
   "source": [
    "missions['Weight Diff'] = missions['Sample Weight(kg)'].diff()\n",
    "missions"
   ]
  },
  {
   "cell_type": "code",
   "execution_count": 44,
   "metadata": {},
   "outputs": [
    {
     "output_type": "execute_result",
     "data": {
      "text/plain": [
       "    Mission  Sample Weight(kg)  Weight Diff\n",
       "0  Apollo11           21.55424      0.00000\n",
       "1  Apollo12           34.34238     12.78814\n",
       "2  Apollo14           41.83363      7.49125\n",
       "3  Apollo15           75.39910     33.56547\n",
       "4  Apollo16           92.46262     17.06352\n",
       "5  Apollo17          109.44402     16.98140"
      ],
      "text/html": "<div>\n<style scoped>\n    .dataframe tbody tr th:only-of-type {\n        vertical-align: middle;\n    }\n\n    .dataframe tbody tr th {\n        vertical-align: top;\n    }\n\n    .dataframe thead th {\n        text-align: right;\n    }\n</style>\n<table border=\"1\" class=\"dataframe\">\n  <thead>\n    <tr style=\"text-align: right;\">\n      <th></th>\n      <th>Mission</th>\n      <th>Sample Weight(kg)</th>\n      <th>Weight Diff</th>\n    </tr>\n  </thead>\n  <tbody>\n    <tr>\n      <th>0</th>\n      <td>Apollo11</td>\n      <td>21.55424</td>\n      <td>0.00000</td>\n    </tr>\n    <tr>\n      <th>1</th>\n      <td>Apollo12</td>\n      <td>34.34238</td>\n      <td>12.78814</td>\n    </tr>\n    <tr>\n      <th>2</th>\n      <td>Apollo14</td>\n      <td>41.83363</td>\n      <td>7.49125</td>\n    </tr>\n    <tr>\n      <th>3</th>\n      <td>Apollo15</td>\n      <td>75.39910</td>\n      <td>33.56547</td>\n    </tr>\n    <tr>\n      <th>4</th>\n      <td>Apollo16</td>\n      <td>92.46262</td>\n      <td>17.06352</td>\n    </tr>\n    <tr>\n      <th>5</th>\n      <td>Apollo17</td>\n      <td>109.44402</td>\n      <td>16.98140</td>\n    </tr>\n  </tbody>\n</table>\n</div>"
     },
     "metadata": {},
     "execution_count": 44
    }
   ],
   "source": [
    "missions['Weight Diff'] = missions['Weight Diff'].fillna(value=0)\n",
    "missions"
   ]
  },
  {
   "cell_type": "code",
   "execution_count": 45,
   "metadata": {},
   "outputs": [
    {
     "output_type": "execute_result",
     "data": {
      "text/plain": [
       "    Mission  Sample Weight(kg)  Weight Diff   Lunar Module (LM)  LM Mass (kg)  \\\n",
       "0  Apollo11           21.55424      0.00000      Antares (LM-8)         15264   \n",
       "1  Apollo12           34.34238     12.78814     Intrepid (LM-6)         15235   \n",
       "2  Apollo14           41.83363      7.49125      Falcon (LM-10)         16456   \n",
       "3  Apollo15           75.39910     33.56547        Eagle (LM-5)         16430   \n",
       "4  Apollo16           92.46262     17.06352       Orion (LM-11)         16445   \n",
       "5  Apollo17          109.44402     16.98140  Challenger (LM-12)         15103   \n",
       "\n",
       "   LM Mass Diff      Command Module (CM)  CM Mass (kg)  CM Mass Diff  \n",
       "0           0.0         America (CM-114)          5960           0.0  \n",
       "1         -29.0          Casper (CM-113)          5609        -351.0  \n",
       "2        1221.0  Yankee Clipper (CM-108)          5840         231.0  \n",
       "3         -26.0      Kitty Hawk (CM-110)          5875          35.0  \n",
       "4          15.0       Columbia (CSM-107)          5560        -315.0  \n",
       "5       -1342.0        Endeavor (CM-112)          5758         198.0  "
      ],
      "text/html": "<div>\n<style scoped>\n    .dataframe tbody tr th:only-of-type {\n        vertical-align: middle;\n    }\n\n    .dataframe tbody tr th {\n        vertical-align: top;\n    }\n\n    .dataframe thead th {\n        text-align: right;\n    }\n</style>\n<table border=\"1\" class=\"dataframe\">\n  <thead>\n    <tr style=\"text-align: right;\">\n      <th></th>\n      <th>Mission</th>\n      <th>Sample Weight(kg)</th>\n      <th>Weight Diff</th>\n      <th>Lunar Module (LM)</th>\n      <th>LM Mass (kg)</th>\n      <th>LM Mass Diff</th>\n      <th>Command Module (CM)</th>\n      <th>CM Mass (kg)</th>\n      <th>CM Mass Diff</th>\n    </tr>\n  </thead>\n  <tbody>\n    <tr>\n      <th>0</th>\n      <td>Apollo11</td>\n      <td>21.55424</td>\n      <td>0.00000</td>\n      <td>Antares (LM-8)</td>\n      <td>15264</td>\n      <td>0.0</td>\n      <td>America (CM-114)</td>\n      <td>5960</td>\n      <td>0.0</td>\n    </tr>\n    <tr>\n      <th>1</th>\n      <td>Apollo12</td>\n      <td>34.34238</td>\n      <td>12.78814</td>\n      <td>Intrepid (LM-6)</td>\n      <td>15235</td>\n      <td>-29.0</td>\n      <td>Casper (CM-113)</td>\n      <td>5609</td>\n      <td>-351.0</td>\n    </tr>\n    <tr>\n      <th>2</th>\n      <td>Apollo14</td>\n      <td>41.83363</td>\n      <td>7.49125</td>\n      <td>Falcon (LM-10)</td>\n      <td>16456</td>\n      <td>1221.0</td>\n      <td>Yankee Clipper (CM-108)</td>\n      <td>5840</td>\n      <td>231.0</td>\n    </tr>\n    <tr>\n      <th>3</th>\n      <td>Apollo15</td>\n      <td>75.39910</td>\n      <td>33.56547</td>\n      <td>Eagle (LM-5)</td>\n      <td>16430</td>\n      <td>-26.0</td>\n      <td>Kitty Hawk (CM-110)</td>\n      <td>5875</td>\n      <td>35.0</td>\n    </tr>\n    <tr>\n      <th>4</th>\n      <td>Apollo16</td>\n      <td>92.46262</td>\n      <td>17.06352</td>\n      <td>Orion (LM-11)</td>\n      <td>16445</td>\n      <td>15.0</td>\n      <td>Columbia (CSM-107)</td>\n      <td>5560</td>\n      <td>-315.0</td>\n    </tr>\n    <tr>\n      <th>5</th>\n      <td>Apollo17</td>\n      <td>109.44402</td>\n      <td>16.98140</td>\n      <td>Challenger (LM-12)</td>\n      <td>15103</td>\n      <td>-1342.0</td>\n      <td>Endeavor (CM-112)</td>\n      <td>5758</td>\n      <td>198.0</td>\n    </tr>\n  </tbody>\n</table>\n</div>"
     },
     "metadata": {},
     "execution_count": 45
    }
   ],
   "source": [
    "missions['Lunar Module (LM)'] = {'Eagle (LM-5)', 'Intrepid (LM-6)', 'Antares (LM-8)', 'Falcon (LM-10)', 'Orion (LM-11)', 'Challenger (LM-12)'}\n",
    "missions['LM Mass (kg)'] = {15103, 15235, 15264, 16430, 16445, 16456}\n",
    "missions['LM Mass Diff'] = missions['LM Mass (kg)'].diff()\n",
    "missions['LM Mass Diff'] = missions['LM Mass Diff'].fillna(value=0)\n",
    "\n",
    "missions['Command Module (CM)'] = {'Columbia (CSM-107)', 'Yankee Clipper (CM-108)', 'Kitty Hawk (CM-110)', 'Endeavor (CM-112)', 'Casper (CM-113)', 'America (CM-114)'}\n",
    "missions['CM Mass (kg)'] = {5560, 5609, 5758, 5875, 5840, 5960}\n",
    "missions['CM Mass Diff'] = missions['CM Mass (kg)'].diff()\n",
    "missions['CM Mass Diff'] = missions['CM Mass Diff'].fillna(value=0)\n",
    "\n",
    "missions"
   ]
  },
  {
   "cell_type": "code",
   "execution_count": 46,
   "metadata": {},
   "outputs": [
    {
     "output_type": "execute_result",
     "data": {
      "text/plain": [
       "    Mission  Sample Weight(kg)  Weight Diff   Lunar Module (LM)  LM Mass (kg)  \\\n",
       "0  Apollo11           21.55424      0.00000      Antares (LM-8)         15264   \n",
       "1  Apollo12           34.34238     12.78814     Intrepid (LM-6)         15235   \n",
       "2  Apollo14           41.83363      7.49125      Falcon (LM-10)         16456   \n",
       "3  Apollo15           75.39910     33.56547        Eagle (LM-5)         16430   \n",
       "4  Apollo16           92.46262     17.06352       Orion (LM-11)         16445   \n",
       "5  Apollo17          109.44402     16.98140  Challenger (LM-12)         15103   \n",
       "\n",
       "   LM Mass Diff      Command Module (CM)  CM Mass (kg)  CM Mass Diff  \\\n",
       "0           0.0         America (CM-114)          5960           0.0   \n",
       "1         -29.0          Casper (CM-113)          5609        -351.0   \n",
       "2        1221.0  Yankee Clipper (CM-108)          5840         231.0   \n",
       "3         -26.0      Kitty Hawk (CM-110)          5875          35.0   \n",
       "4          15.0       Columbia (CSM-107)          5560        -315.0   \n",
       "5       -1342.0        Endeavor (CM-112)          5758         198.0   \n",
       "\n",
       "   Total Weight (kg)  Total Weight Diff  \n",
       "0              21224                0.0  \n",
       "1              20844             -380.0  \n",
       "2              22296             1452.0  \n",
       "3              22305                9.0  \n",
       "4              22005             -300.0  \n",
       "5              20861            -1144.0  "
      ],
      "text/html": "<div>\n<style scoped>\n    .dataframe tbody tr th:only-of-type {\n        vertical-align: middle;\n    }\n\n    .dataframe tbody tr th {\n        vertical-align: top;\n    }\n\n    .dataframe thead th {\n        text-align: right;\n    }\n</style>\n<table border=\"1\" class=\"dataframe\">\n  <thead>\n    <tr style=\"text-align: right;\">\n      <th></th>\n      <th>Mission</th>\n      <th>Sample Weight(kg)</th>\n      <th>Weight Diff</th>\n      <th>Lunar Module (LM)</th>\n      <th>LM Mass (kg)</th>\n      <th>LM Mass Diff</th>\n      <th>Command Module (CM)</th>\n      <th>CM Mass (kg)</th>\n      <th>CM Mass Diff</th>\n      <th>Total Weight (kg)</th>\n      <th>Total Weight Diff</th>\n    </tr>\n  </thead>\n  <tbody>\n    <tr>\n      <th>0</th>\n      <td>Apollo11</td>\n      <td>21.55424</td>\n      <td>0.00000</td>\n      <td>Antares (LM-8)</td>\n      <td>15264</td>\n      <td>0.0</td>\n      <td>America (CM-114)</td>\n      <td>5960</td>\n      <td>0.0</td>\n      <td>21224</td>\n      <td>0.0</td>\n    </tr>\n    <tr>\n      <th>1</th>\n      <td>Apollo12</td>\n      <td>34.34238</td>\n      <td>12.78814</td>\n      <td>Intrepid (LM-6)</td>\n      <td>15235</td>\n      <td>-29.0</td>\n      <td>Casper (CM-113)</td>\n      <td>5609</td>\n      <td>-351.0</td>\n      <td>20844</td>\n      <td>-380.0</td>\n    </tr>\n    <tr>\n      <th>2</th>\n      <td>Apollo14</td>\n      <td>41.83363</td>\n      <td>7.49125</td>\n      <td>Falcon (LM-10)</td>\n      <td>16456</td>\n      <td>1221.0</td>\n      <td>Yankee Clipper (CM-108)</td>\n      <td>5840</td>\n      <td>231.0</td>\n      <td>22296</td>\n      <td>1452.0</td>\n    </tr>\n    <tr>\n      <th>3</th>\n      <td>Apollo15</td>\n      <td>75.39910</td>\n      <td>33.56547</td>\n      <td>Eagle (LM-5)</td>\n      <td>16430</td>\n      <td>-26.0</td>\n      <td>Kitty Hawk (CM-110)</td>\n      <td>5875</td>\n      <td>35.0</td>\n      <td>22305</td>\n      <td>9.0</td>\n    </tr>\n    <tr>\n      <th>4</th>\n      <td>Apollo16</td>\n      <td>92.46262</td>\n      <td>17.06352</td>\n      <td>Orion (LM-11)</td>\n      <td>16445</td>\n      <td>15.0</td>\n      <td>Columbia (CSM-107)</td>\n      <td>5560</td>\n      <td>-315.0</td>\n      <td>22005</td>\n      <td>-300.0</td>\n    </tr>\n    <tr>\n      <th>5</th>\n      <td>Apollo17</td>\n      <td>109.44402</td>\n      <td>16.98140</td>\n      <td>Challenger (LM-12)</td>\n      <td>15103</td>\n      <td>-1342.0</td>\n      <td>Endeavor (CM-112)</td>\n      <td>5758</td>\n      <td>198.0</td>\n      <td>20861</td>\n      <td>-1144.0</td>\n    </tr>\n  </tbody>\n</table>\n</div>"
     },
     "metadata": {},
     "execution_count": 46
    }
   ],
   "source": [
    "missions['Total Weight (kg)'] = missions['LM Mass (kg)'] + missions['CM Mass (kg)']\n",
    "missions['Total Weight Diff'] = missions['LM Mass Diff'] + missions['CM Mass Diff']\n",
    "missions"
   ]
  },
  {
   "cell_type": "code",
   "execution_count": 47,
   "metadata": {},
   "outputs": [
    {
     "output_type": "execute_result",
     "data": {
      "text/plain": [
       "    Mission  Sample Weight(kg)  Weight Diff   Lunar Module (LM)  LM Mass (kg)  \\\n",
       "0  Apollo11           21.55424      0.00000      Antares (LM-8)         15264   \n",
       "1  Apollo12           34.34238     12.78814     Intrepid (LM-6)         15235   \n",
       "2  Apollo14           41.83363      7.49125      Falcon (LM-10)         16456   \n",
       "3  Apollo15           75.39910     33.56547        Eagle (LM-5)         16430   \n",
       "4  Apollo16           92.46262     17.06352       Orion (LM-11)         16445   \n",
       "5  Apollo17          109.44402     16.98140  Challenger (LM-12)         15103   \n",
       "\n",
       "   LM Mass Diff      Command Module (CM)  CM Mass (kg)  CM Mass Diff  \\\n",
       "0           0.0         America (CM-114)          5960           0.0   \n",
       "1         -29.0          Casper (CM-113)          5609        -351.0   \n",
       "2        1221.0  Yankee Clipper (CM-108)          5840         231.0   \n",
       "3         -26.0      Kitty Hawk (CM-110)          5875          35.0   \n",
       "4          15.0       Columbia (CSM-107)          5560        -315.0   \n",
       "5       -1342.0        Endeavor (CM-112)          5758         198.0   \n",
       "\n",
       "   Total Weight (kg)  Total Weight Diff  Crewed Area : Payload  \\\n",
       "0              21224                0.0               0.487908   \n",
       "1              20844             -380.0               0.479172   \n",
       "2              22296             1452.0               0.512552   \n",
       "3              22305                9.0               0.512759   \n",
       "4              22005             -300.0               0.505862   \n",
       "5              20861            -1144.0               0.479563   \n",
       "\n",
       "   Sample : Crewed Area  Sample : Payload  \n",
       "0              0.001016          0.000495  \n",
       "1              0.001648          0.000789  \n",
       "2              0.001876          0.000962  \n",
       "3              0.003380          0.001733  \n",
       "4              0.004202          0.002126  \n",
       "5              0.005246          0.002516  "
      ],
      "text/html": "<div>\n<style scoped>\n    .dataframe tbody tr th:only-of-type {\n        vertical-align: middle;\n    }\n\n    .dataframe tbody tr th {\n        vertical-align: top;\n    }\n\n    .dataframe thead th {\n        text-align: right;\n    }\n</style>\n<table border=\"1\" class=\"dataframe\">\n  <thead>\n    <tr style=\"text-align: right;\">\n      <th></th>\n      <th>Mission</th>\n      <th>Sample Weight(kg)</th>\n      <th>Weight Diff</th>\n      <th>Lunar Module (LM)</th>\n      <th>LM Mass (kg)</th>\n      <th>LM Mass Diff</th>\n      <th>Command Module (CM)</th>\n      <th>CM Mass (kg)</th>\n      <th>CM Mass Diff</th>\n      <th>Total Weight (kg)</th>\n      <th>Total Weight Diff</th>\n      <th>Crewed Area : Payload</th>\n      <th>Sample : Crewed Area</th>\n      <th>Sample : Payload</th>\n    </tr>\n  </thead>\n  <tbody>\n    <tr>\n      <th>0</th>\n      <td>Apollo11</td>\n      <td>21.55424</td>\n      <td>0.00000</td>\n      <td>Antares (LM-8)</td>\n      <td>15264</td>\n      <td>0.0</td>\n      <td>America (CM-114)</td>\n      <td>5960</td>\n      <td>0.0</td>\n      <td>21224</td>\n      <td>0.0</td>\n      <td>0.487908</td>\n      <td>0.001016</td>\n      <td>0.000495</td>\n    </tr>\n    <tr>\n      <th>1</th>\n      <td>Apollo12</td>\n      <td>34.34238</td>\n      <td>12.78814</td>\n      <td>Intrepid (LM-6)</td>\n      <td>15235</td>\n      <td>-29.0</td>\n      <td>Casper (CM-113)</td>\n      <td>5609</td>\n      <td>-351.0</td>\n      <td>20844</td>\n      <td>-380.0</td>\n      <td>0.479172</td>\n      <td>0.001648</td>\n      <td>0.000789</td>\n    </tr>\n    <tr>\n      <th>2</th>\n      <td>Apollo14</td>\n      <td>41.83363</td>\n      <td>7.49125</td>\n      <td>Falcon (LM-10)</td>\n      <td>16456</td>\n      <td>1221.0</td>\n      <td>Yankee Clipper (CM-108)</td>\n      <td>5840</td>\n      <td>231.0</td>\n      <td>22296</td>\n      <td>1452.0</td>\n      <td>0.512552</td>\n      <td>0.001876</td>\n      <td>0.000962</td>\n    </tr>\n    <tr>\n      <th>3</th>\n      <td>Apollo15</td>\n      <td>75.39910</td>\n      <td>33.56547</td>\n      <td>Eagle (LM-5)</td>\n      <td>16430</td>\n      <td>-26.0</td>\n      <td>Kitty Hawk (CM-110)</td>\n      <td>5875</td>\n      <td>35.0</td>\n      <td>22305</td>\n      <td>9.0</td>\n      <td>0.512759</td>\n      <td>0.003380</td>\n      <td>0.001733</td>\n    </tr>\n    <tr>\n      <th>4</th>\n      <td>Apollo16</td>\n      <td>92.46262</td>\n      <td>17.06352</td>\n      <td>Orion (LM-11)</td>\n      <td>16445</td>\n      <td>15.0</td>\n      <td>Columbia (CSM-107)</td>\n      <td>5560</td>\n      <td>-315.0</td>\n      <td>22005</td>\n      <td>-300.0</td>\n      <td>0.505862</td>\n      <td>0.004202</td>\n      <td>0.002126</td>\n    </tr>\n    <tr>\n      <th>5</th>\n      <td>Apollo17</td>\n      <td>109.44402</td>\n      <td>16.98140</td>\n      <td>Challenger (LM-12)</td>\n      <td>15103</td>\n      <td>-1342.0</td>\n      <td>Endeavor (CM-112)</td>\n      <td>5758</td>\n      <td>198.0</td>\n      <td>20861</td>\n      <td>-1144.0</td>\n      <td>0.479563</td>\n      <td>0.005246</td>\n      <td>0.002516</td>\n    </tr>\n  </tbody>\n</table>\n</div>"
     },
     "metadata": {},
     "execution_count": 47
    }
   ],
   "source": [
    "# Sample-to-weight ratio\n",
    "saturnVPayload = 43500\n",
    "missions['Crewed Area : Payload'] = missions['Total Weight (kg)'] / saturnVPayload\n",
    "missions['Sample : Crewed Area'] = missions['Sample Weight(kg)'] / missions['Total Weight (kg)']\n",
    "missions['Sample : Payload'] = missions['Sample Weight(kg)'] / saturnVPayload\n",
    "missions"
   ]
  },
  {
   "cell_type": "code",
   "execution_count": 48,
   "metadata": {},
   "outputs": [
    {
     "output_type": "stream",
     "name": "stdout",
     "text": [
      "0.49630268199233724\n0.0028946732226251396\n0.0014369195019157093\n"
     ]
    }
   ],
   "source": [
    "crewedArea_payload_ratio = missions['Crewed Area : Payload'].mean()\n",
    "sample_crewedArea_ratio = missions['Sample : Crewed Area'].mean()\n",
    "sample_payload_ratio = missions['Sample : Payload'].mean()\n",
    "print(crewedArea_payload_ratio)\n",
    "print(sample_crewedArea_ratio)\n",
    "print(sample_payload_ratio)"
   ]
  },
  {
   "cell_type": "code",
   "execution_count": 49,
   "metadata": {},
   "outputs": [
    {
     "output_type": "execute_result",
     "data": {
      "text/plain": [
       "     Mission  Total Weight (kg)  Payload (kg)\n",
       "0   artemis1              26520         26988\n",
       "1  artemis1b              26520         37965\n",
       "2   artemis2              26520         42955"
      ],
      "text/html": "<div>\n<style scoped>\n    .dataframe tbody tr th:only-of-type {\n        vertical-align: middle;\n    }\n\n    .dataframe tbody tr th {\n        vertical-align: top;\n    }\n\n    .dataframe thead th {\n        text-align: right;\n    }\n</style>\n<table border=\"1\" class=\"dataframe\">\n  <thead>\n    <tr style=\"text-align: right;\">\n      <th></th>\n      <th>Mission</th>\n      <th>Total Weight (kg)</th>\n      <th>Payload (kg)</th>\n    </tr>\n  </thead>\n  <tbody>\n    <tr>\n      <th>0</th>\n      <td>artemis1</td>\n      <td>26520</td>\n      <td>26988</td>\n    </tr>\n    <tr>\n      <th>1</th>\n      <td>artemis1b</td>\n      <td>26520</td>\n      <td>37965</td>\n    </tr>\n    <tr>\n      <th>2</th>\n      <td>artemis2</td>\n      <td>26520</td>\n      <td>42955</td>\n    </tr>\n  </tbody>\n</table>\n</div>"
     },
     "metadata": {},
     "execution_count": 49
    }
   ],
   "source": [
    "artemis_crewedArea = 26520\n",
    "artemis_mission = pd.DataFrame({'Mission':['artemis1','artemis1b','artemis2'],\n",
    "                                 'Total Weight (kg)':[artemis_crewedArea,artemis_crewedArea,artemis_crewedArea],\n",
    "                                 'Payload (kg)':[26988, 37965, 42955]})\n",
    "artemis_mission"
   ]
  },
  {
   "cell_type": "code",
   "execution_count": 50,
   "metadata": {},
   "outputs": [
    {
     "output_type": "execute_result",
     "data": {
      "text/plain": [
       "     Mission  Total Weight (kg)  Payload (kg)  Sample Weight from Total (kg)  \\\n",
       "0   artemis1              26520         26988                      76.766734   \n",
       "1  artemis1b              26520         37965                      76.766734   \n",
       "2   artemis2              26520         42955                      76.766734   \n",
       "\n",
       "   Sample Weight from Payload (kg)  \n",
       "0                        38.779584  \n",
       "1                        54.552649  \n",
       "2                        61.722877  "
      ],
      "text/html": "<div>\n<style scoped>\n    .dataframe tbody tr th:only-of-type {\n        vertical-align: middle;\n    }\n\n    .dataframe tbody tr th {\n        vertical-align: top;\n    }\n\n    .dataframe thead th {\n        text-align: right;\n    }\n</style>\n<table border=\"1\" class=\"dataframe\">\n  <thead>\n    <tr style=\"text-align: right;\">\n      <th></th>\n      <th>Mission</th>\n      <th>Total Weight (kg)</th>\n      <th>Payload (kg)</th>\n      <th>Sample Weight from Total (kg)</th>\n      <th>Sample Weight from Payload (kg)</th>\n    </tr>\n  </thead>\n  <tbody>\n    <tr>\n      <th>0</th>\n      <td>artemis1</td>\n      <td>26520</td>\n      <td>26988</td>\n      <td>76.766734</td>\n      <td>38.779584</td>\n    </tr>\n    <tr>\n      <th>1</th>\n      <td>artemis1b</td>\n      <td>26520</td>\n      <td>37965</td>\n      <td>76.766734</td>\n      <td>54.552649</td>\n    </tr>\n    <tr>\n      <th>2</th>\n      <td>artemis2</td>\n      <td>26520</td>\n      <td>42955</td>\n      <td>76.766734</td>\n      <td>61.722877</td>\n    </tr>\n  </tbody>\n</table>\n</div>"
     },
     "metadata": {},
     "execution_count": 50
    }
   ],
   "source": [
    "artemis_mission['Sample Weight from Total (kg)'] = artemis_mission['Total Weight (kg)'] * sample_crewedArea_ratio\n",
    "artemis_mission['Sample Weight from Payload (kg)'] = artemis_mission['Payload (kg)'] * sample_payload_ratio\n",
    "artemis_mission\n"
   ]
  },
  {
   "cell_type": "code",
   "execution_count": 51,
   "metadata": {},
   "outputs": [
    {
     "output_type": "execute_result",
     "data": {
      "text/plain": [
       "     Mission  Total Weight (kg)  Payload (kg)  Sample Weight from Total (kg)  \\\n",
       "0   artemis1              26520         26988                      76.766734   \n",
       "1  artemis1b              26520         37965                      76.766734   \n",
       "2   artemis2              26520         42955                      76.766734   \n",
       "\n",
       "   Sample Weight from Payload (kg)  Estimated Sample Weight (kg)  \n",
       "0                        38.779584                     57.773159  \n",
       "1                        54.552649                     65.659691  \n",
       "2                        61.722877                     69.244806  "
      ],
      "text/html": "<div>\n<style scoped>\n    .dataframe tbody tr th:only-of-type {\n        vertical-align: middle;\n    }\n\n    .dataframe tbody tr th {\n        vertical-align: top;\n    }\n\n    .dataframe thead th {\n        text-align: right;\n    }\n</style>\n<table border=\"1\" class=\"dataframe\">\n  <thead>\n    <tr style=\"text-align: right;\">\n      <th></th>\n      <th>Mission</th>\n      <th>Total Weight (kg)</th>\n      <th>Payload (kg)</th>\n      <th>Sample Weight from Total (kg)</th>\n      <th>Sample Weight from Payload (kg)</th>\n      <th>Estimated Sample Weight (kg)</th>\n    </tr>\n  </thead>\n  <tbody>\n    <tr>\n      <th>0</th>\n      <td>artemis1</td>\n      <td>26520</td>\n      <td>26988</td>\n      <td>76.766734</td>\n      <td>38.779584</td>\n      <td>57.773159</td>\n    </tr>\n    <tr>\n      <th>1</th>\n      <td>artemis1b</td>\n      <td>26520</td>\n      <td>37965</td>\n      <td>76.766734</td>\n      <td>54.552649</td>\n      <td>65.659691</td>\n    </tr>\n    <tr>\n      <th>2</th>\n      <td>artemis2</td>\n      <td>26520</td>\n      <td>42955</td>\n      <td>76.766734</td>\n      <td>61.722877</td>\n      <td>69.244806</td>\n    </tr>\n  </tbody>\n</table>\n</div>"
     },
     "metadata": {},
     "execution_count": 51
    }
   ],
   "source": [
    "artemis_mission['Estimated Sample Weight (kg)'] = (artemis_mission['Sample Weight from Payload (kg)'] + artemis_mission['Sample Weight from Total (kg)'])/2\n",
    "artemis_mission"
   ]
  },
  {
   "cell_type": "code",
   "execution_count": 52,
   "metadata": {},
   "outputs": [
    {
     "output_type": "execute_result",
     "data": {
      "text/plain": [
       "      ID   Mission    Type   Subtype  Weight(kg)  Pristine(%)  Remaining(kg)\n",
       "0  10001  Apollo11    Soil  Unsieved      0.1258        88.36       0.111157\n",
       "1  10002  Apollo11    Soil  Unsieved      5.6290        93.73       5.276062\n",
       "2  10003  Apollo11  Basalt  Ilmenite      0.2130        65.56       0.139643\n",
       "3  10004  Apollo11    Core  Unsieved      0.0448        71.76       0.032148\n",
       "4  10005  Apollo11    Core  Unsieved      0.0534        40.31       0.021526"
      ],
      "text/html": "<div>\n<style scoped>\n    .dataframe tbody tr th:only-of-type {\n        vertical-align: middle;\n    }\n\n    .dataframe tbody tr th {\n        vertical-align: top;\n    }\n\n    .dataframe thead th {\n        text-align: right;\n    }\n</style>\n<table border=\"1\" class=\"dataframe\">\n  <thead>\n    <tr style=\"text-align: right;\">\n      <th></th>\n      <th>ID</th>\n      <th>Mission</th>\n      <th>Type</th>\n      <th>Subtype</th>\n      <th>Weight(kg)</th>\n      <th>Pristine(%)</th>\n      <th>Remaining(kg)</th>\n    </tr>\n  </thead>\n  <tbody>\n    <tr>\n      <th>0</th>\n      <td>10001</td>\n      <td>Apollo11</td>\n      <td>Soil</td>\n      <td>Unsieved</td>\n      <td>0.1258</td>\n      <td>88.36</td>\n      <td>0.111157</td>\n    </tr>\n    <tr>\n      <th>1</th>\n      <td>10002</td>\n      <td>Apollo11</td>\n      <td>Soil</td>\n      <td>Unsieved</td>\n      <td>5.6290</td>\n      <td>93.73</td>\n      <td>5.276062</td>\n    </tr>\n    <tr>\n      <th>2</th>\n      <td>10003</td>\n      <td>Apollo11</td>\n      <td>Basalt</td>\n      <td>Ilmenite</td>\n      <td>0.2130</td>\n      <td>65.56</td>\n      <td>0.139643</td>\n    </tr>\n    <tr>\n      <th>3</th>\n      <td>10004</td>\n      <td>Apollo11</td>\n      <td>Core</td>\n      <td>Unsieved</td>\n      <td>0.0448</td>\n      <td>71.76</td>\n      <td>0.032148</td>\n    </tr>\n    <tr>\n      <th>4</th>\n      <td>10005</td>\n      <td>Apollo11</td>\n      <td>Core</td>\n      <td>Unsieved</td>\n      <td>0.0534</td>\n      <td>40.31</td>\n      <td>0.021526</td>\n    </tr>\n  </tbody>\n</table>\n</div>"
     },
     "metadata": {},
     "execution_count": 52
    }
   ],
   "source": [
    "rock_samples['Remaining(kg)'] = rock_samples['Weight(kg)'] * (rock_samples['Pristine(%)'] * .01)\n",
    "rock_samples.head()"
   ]
  },
  {
   "cell_type": "code",
   "execution_count": null,
   "metadata": {},
   "outputs": [],
   "source": [
    "rock_samples.describe()"
   ]
  }
 ]
}